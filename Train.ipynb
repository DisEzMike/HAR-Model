{
 "cells": [
  {
   "cell_type": "markdown",
   "id": "cda76cd0-3211-4b78-a8e0-a6986f3f57ac",
   "metadata": {},
   "source": [
    "## โหลดข้อมูล + ระบุคอลัมน์ label"
   ]
  },
  {
   "cell_type": "code",
   "execution_count": 26,
   "id": "fa26a980-a398-4162-b326-26f818a02d10",
   "metadata": {},
   "outputs": [
    {
     "name": "stdout",
     "output_type": "stream",
     "text": [
      "LABEL_COL = label\n",
      "label\n",
      "WALK          1741\n",
      "UPSTAIRS      1739\n",
      "RUN           1306\n",
      "DOWNSTAIRS    1249\n",
      "IDLE          1212\n",
      "Name: count, dtype: int64\n"
     ]
    },
    {
     "data": {
      "text/html": [
       "<div>\n",
       "<style scoped>\n",
       "    .dataframe tbody tr th:only-of-type {\n",
       "        vertical-align: middle;\n",
       "    }\n",
       "\n",
       "    .dataframe tbody tr th {\n",
       "        vertical-align: top;\n",
       "    }\n",
       "\n",
       "    .dataframe thead th {\n",
       "        text-align: right;\n",
       "    }\n",
       "</style>\n",
       "<table border=\"1\" class=\"dataframe\">\n",
       "  <thead>\n",
       "    <tr style=\"text-align: right;\">\n",
       "      <th></th>\n",
       "      <th>source_file</th>\n",
       "      <th>start_time</th>\n",
       "      <th>end_time</th>\n",
       "      <th>lin_acc_mag_dom_freq</th>\n",
       "      <th>lin_acc_mag_rms</th>\n",
       "      <th>vert_horiz_ratio</th>\n",
       "      <th>vert_lin_rms</th>\n",
       "      <th>horiz_lin_rms</th>\n",
       "      <th>lin_acc_mag_band05_5Hz</th>\n",
       "      <th>gyro_mag_rms</th>\n",
       "      <th>...</th>\n",
       "      <th>vert_neg_impulse</th>\n",
       "      <th>vert_impulse_ratio</th>\n",
       "      <th>vert_p95</th>\n",
       "      <th>vert_p05</th>\n",
       "      <th>vert_peak_ratio</th>\n",
       "      <th>vjerk_rms</th>\n",
       "      <th>vert_balance_bp</th>\n",
       "      <th>peak_balance_bp</th>\n",
       "      <th>file_key</th>\n",
       "      <th>label</th>\n",
       "    </tr>\n",
       "  </thead>\n",
       "  <tbody>\n",
       "    <tr>\n",
       "      <th>0</th>\n",
       "      <td>cleaned_downstairs_ed_1.csv</td>\n",
       "      <td>2025-09-30 10:50:45.147717953</td>\n",
       "      <td>2025-09-30 10:50:47.147717953</td>\n",
       "      <td>2.474748</td>\n",
       "      <td>5.691099</td>\n",
       "      <td>0.854429</td>\n",
       "      <td>3.696945</td>\n",
       "      <td>4.326801</td>\n",
       "      <td>7833.623626</td>\n",
       "      <td>2.808906</td>\n",
       "      <td>...</td>\n",
       "      <td>-3.772527</td>\n",
       "      <td>0.397382</td>\n",
       "      <td>4.500975</td>\n",
       "      <td>-7.201538</td>\n",
       "      <td>0.625002</td>\n",
       "      <td>45.457745</td>\n",
       "      <td>-0.316204</td>\n",
       "      <td>-0.135934</td>\n",
       "      <td>cleaned_downstairs_ed_1</td>\n",
       "      <td>DOWNSTAIRS</td>\n",
       "    </tr>\n",
       "    <tr>\n",
       "      <th>1</th>\n",
       "      <td>cleaned_downstairs_ed_1.csv</td>\n",
       "      <td>2025-09-30 10:50:46.147717953</td>\n",
       "      <td>2025-09-30 10:50:48.147717953</td>\n",
       "      <td>0.989899</td>\n",
       "      <td>6.185855</td>\n",
       "      <td>0.544952</td>\n",
       "      <td>2.960008</td>\n",
       "      <td>5.431680</td>\n",
       "      <td>17291.158053</td>\n",
       "      <td>2.602030</td>\n",
       "      <td>...</td>\n",
       "      <td>-2.758334</td>\n",
       "      <td>0.640703</td>\n",
       "      <td>3.606363</td>\n",
       "      <td>-6.337401</td>\n",
       "      <td>0.569060</td>\n",
       "      <td>53.499067</td>\n",
       "      <td>-0.481609</td>\n",
       "      <td>-0.107081</td>\n",
       "      <td>cleaned_downstairs_ed_1</td>\n",
       "      <td>DOWNSTAIRS</td>\n",
       "    </tr>\n",
       "  </tbody>\n",
       "</table>\n",
       "<p>2 rows × 24 columns</p>\n",
       "</div>"
      ],
      "text/plain": [
       "                   source_file                     start_time  \\\n",
       "0  cleaned_downstairs_ed_1.csv  2025-09-30 10:50:45.147717953   \n",
       "1  cleaned_downstairs_ed_1.csv  2025-09-30 10:50:46.147717953   \n",
       "\n",
       "                        end_time  lin_acc_mag_dom_freq  lin_acc_mag_rms  \\\n",
       "0  2025-09-30 10:50:47.147717953              2.474748         5.691099   \n",
       "1  2025-09-30 10:50:48.147717953              0.989899         6.185855   \n",
       "\n",
       "   vert_horiz_ratio  vert_lin_rms  horiz_lin_rms  lin_acc_mag_band05_5Hz  \\\n",
       "0          0.854429      3.696945       4.326801             7833.623626   \n",
       "1          0.544952      2.960008       5.431680            17291.158053   \n",
       "\n",
       "   gyro_mag_rms  ...  vert_neg_impulse  vert_impulse_ratio  vert_p95  \\\n",
       "0      2.808906  ...         -3.772527            0.397382  4.500975   \n",
       "1      2.602030  ...         -2.758334            0.640703  3.606363   \n",
       "\n",
       "   vert_p05  vert_peak_ratio  vjerk_rms  vert_balance_bp  peak_balance_bp  \\\n",
       "0 -7.201538         0.625002  45.457745        -0.316204        -0.135934   \n",
       "1 -6.337401         0.569060  53.499067        -0.481609        -0.107081   \n",
       "\n",
       "                  file_key       label  \n",
       "0  cleaned_downstairs_ed_1  DOWNSTAIRS  \n",
       "1  cleaned_downstairs_ed_1  DOWNSTAIRS  \n",
       "\n",
       "[2 rows x 24 columns]"
      ]
     },
     "execution_count": 26,
     "metadata": {},
     "output_type": "execute_result"
    }
   ],
   "source": [
    "import os, pandas as pd\n",
    "\n",
    "IN_PATH = \"./out/features_trainable_5cls.csv\" \n",
    "OUT_DIR = \"./out\"\n",
    "os.makedirs(OUT_DIR, exist_ok=True)\n",
    "\n",
    "df = pd.read_csv(IN_PATH)\n",
    "\n",
    "# เดาชื่อคอลัมน์ label (แก้เองได้ถ้าใช้ชื่อเฉพาะ)\n",
    "for cand in [\"label\", \"label_final_5cls\", \"label_auto_5cls\"]:\n",
    "    if cand in df.columns:\n",
    "        LABEL_COL = cand\n",
    "        break\n",
    "else:\n",
    "    raise ValueError(\"ไม่พบคอลัมน์ label (ลองเปลี่ยน LABEL_COL ให้ตรงกับไฟล์)\")\n",
    "\n",
    "print(\"LABEL_COL =\", LABEL_COL)\n",
    "print(df[LABEL_COL].value_counts())\n",
    "df.head(2)"
   ]
  },
  {
   "cell_type": "markdown",
   "id": "c7578ece-ad01-42f8-9fd7-cebe958f91d5",
   "metadata": {},
   "source": [
    "## แบ่ง Train/Test (เลือกแบบปกติ หรือกันรั่วข้ามไฟล์)"
   ]
  },
  {
   "cell_type": "code",
   "execution_count": 27,
   "id": "49e2b75b-e845-480c-8db8-e64a605ac0a5",
   "metadata": {},
   "outputs": [
    {
     "name": "stdout",
     "output_type": "stream",
     "text": [
      "Shapes: (4437, 24) (2810, 24)\n",
      "\n",
      "Train % by class\n",
      "label\n",
      "UPSTAIRS      27.9\n",
      "WALK          26.5\n",
      "DOWNSTAIRS    19.0\n",
      "RUN           18.8\n",
      "IDLE           7.8\n",
      "Name: proportion, dtype: float64\n",
      "\n",
      "Test % by class\n",
      "label\n",
      "IDLE          30.9\n",
      "WALK          20.1\n",
      "UPSTAIRS      17.8\n",
      "RUN           16.7\n",
      "DOWNSTAIRS    14.5\n",
      "Name: proportion, dtype: float64\n",
      "\n",
      "Saved: ./out/train_5cls.csv_group and ./out/test_5cls.csv_group\n"
     ]
    }
   ],
   "source": [
    "from sklearn.model_selection import train_test_split, StratifiedShuffleSplit\n",
    "import numpy as np\n",
    "\n",
    "TEST_SIZE     = 0.30\n",
    "RANDOM_STATE  = 42\n",
    "USE_GROUP_SPLIT = True   # ← ตั้งเป็น False ถ้าไม่ต้องการกันรั่วไฟล์\n",
    "\n",
    "if not USE_GROUP_SPLIT:\n",
    "    # แบบปกติ: stratify ต่อแถว\n",
    "    train_df, test_df = train_test_split(\n",
    "        df, test_size=TEST_SIZE, random_state=RANDOM_STATE, stratify=df[LABEL_COL]\n",
    "    )\n",
    "else:\n",
    "    # แบบกันรั่วไฟล์: แยก train/test ด้วยรายชื่อไฟล์ (source_file)\n",
    "    if \"source_file\" not in df.columns:\n",
    "        raise ValueError(\"ต้องมีคอลัมน์ 'source_file' สำหรับ split แบบ group-aware\")\n",
    "\n",
    "    # ระดับไฟล์: 1 ไฟล์ 1 แถว ใช้ mode ของ label เป็นป้ายของไฟล์\n",
    "    file_level = (\n",
    "        df.groupby(\"source_file\")\n",
    "          .agg(file_label=(LABEL_COL, lambda s: s.mode().iat[0]))\n",
    "          .reset_index()\n",
    "    )\n",
    "\n",
    "    # --- แก้ error: กันคลาสที่มีไฟล์ < 2 ให้ไป train ทั้งหมดก่อน ---\n",
    "    always_train_files = set()\n",
    "    rest = file_level.copy()\n",
    "\n",
    "    while True:\n",
    "        counts = rest[\"file_label\"].value_counts()\n",
    "        bad_classes = counts[counts < 2].index.tolist()\n",
    "        if not bad_classes:\n",
    "            break\n",
    "        # ย้ายไฟล์ของคลาสที่มีไฟล์น้อยกว่า 2 เข้า train\n",
    "        move_files = set(rest.loc[rest[\"file_label\"].isin(bad_classes), \"source_file\"])\n",
    "        always_train_files |= move_files\n",
    "        rest = file_level[~file_level[\"source_file\"].isin(always_train_files)].reset_index(drop=True)\n",
    "        if rest.empty:\n",
    "            break\n",
    "    # ---------------------------------------------\n",
    "\n",
    "    if rest.empty:\n",
    "        train_files = set(file_level[\"source_file\"])\n",
    "        test_files  = set()\n",
    "    else:\n",
    "        sss = StratifiedShuffleSplit(n_splits=1, test_size=TEST_SIZE, random_state=RANDOM_STATE)\n",
    "        train_idx, test_idx = next(sss.split(rest[[\"source_file\"]], rest[\"file_label\"]))\n",
    "        train_files = set(rest.iloc[train_idx][\"source_file\"]) | always_train_files\n",
    "        test_files  = set(rest.iloc[test_idx][\"source_file\"])\n",
    "\n",
    "    assert train_files.isdisjoint(test_files)\n",
    "    train_df = df[df[\"source_file\"].isin(train_files)].copy()\n",
    "    test_df  = df[df[\"source_file\"].isin(test_files)].copy()\n",
    "\n",
    "print(\"Shapes:\", train_df.shape, test_df.shape)\n",
    "print(\"\\nTrain % by class\")\n",
    "print((train_df[LABEL_COL].value_counts(normalize=True)*100).round(1))\n",
    "print(\"\\nTest % by class\")\n",
    "print((test_df[LABEL_COL].value_counts(normalize=True)*100).round(1))\n",
    "\n",
    "# บันทึกชุดข้อมูล (คงรูปแบบเดิมของคุณไว้)\n",
    "train_path = os.path.join(OUT_DIR, \"train_5cls.csv\" + (\"_group\" if USE_GROUP_SPLIT else \"\"))\n",
    "test_path  = os.path.join(OUT_DIR, \"test_5cls.csv\"  + (\"_group\" if USE_GROUP_SPLIT else \"\"))\n",
    "train_df.to_csv(train_path, index=False)\n",
    "test_df.to_csv(test_path, index=False)\n",
    "print(\"\\nSaved:\", train_path, \"and\", test_path)"
   ]
  },
  {
   "cell_type": "code",
   "execution_count": null,
   "id": "630f50ae-7a1e-4639-9e43-02d793b4e700",
   "metadata": {},
   "outputs": [],
   "source": []
  },
  {
   "cell_type": "code",
   "execution_count": 28,
   "id": "a3c9db61-3ff3-4d5c-ac2b-2facc5861178",
   "metadata": {},
   "outputs": [
    {
     "name": "stdout",
     "output_type": "stream",
     "text": [
      "LABEL_COL = label\n",
      "train size: (4437, 24) | test size: (2810, 24)\n",
      "label\n",
      "UPSTAIRS      1238\n",
      "WALK          1177\n",
      "DOWNSTAIRS     842\n",
      "RUN            836\n",
      "IDLE           344\n",
      "Name: count, dtype: int64\n"
     ]
    }
   ],
   "source": [
    "import os, pandas as pd\n",
    "\n",
    "OUT_DIR = \"./out\"\n",
    "train_path = os.path.join(OUT_DIR, \"train_5cls.csv_group\")  # ถ้าไม่ได้ใช้ group-aware เปลี่ยนชื่อไฟล์\n",
    "test_path  = os.path.join(OUT_DIR, \"test_5cls.csv_group\")\n",
    "\n",
    "train_df = pd.read_csv(train_path)\n",
    "test_df  = pd.read_csv(test_path)\n",
    "\n",
    "# เดาชื่อคอลัมน์ label (แก้เป็นชื่อที่คุณใช้จริงได้)\n",
    "for cand in [\"label_final_5cls\",\"label\",\"label_auto_5cls\"]:\n",
    "    if cand in train_df.columns:\n",
    "        LABEL_COL = cand\n",
    "        break\n",
    "else:\n",
    "    raise ValueError(\"ไม่พบคอลัมน์ label\")\n",
    "\n",
    "print(\"LABEL_COL =\", LABEL_COL)\n",
    "print(\"train size:\", train_df.shape, \"| test size:\", test_df.shape)\n",
    "print(train_df[LABEL_COL].value_counts())"
   ]
  },
  {
   "cell_type": "code",
   "execution_count": 29,
   "id": "fe45a76d-65b3-46e5-aad7-1db2664301a5",
   "metadata": {},
   "outputs": [
    {
     "name": "stdout",
     "output_type": "stream",
     "text": [
      "20 features prepared.\n"
     ]
    },
    {
     "name": "stderr",
     "output_type": "stream",
     "text": [
      "/Users/disezmike/.pyenv/versions/3.13.2/lib/python3.13/site-packages/numpy/lib/_nanfunctions_impl.py:1214: RuntimeWarning: Mean of empty slice\n",
      "  return np.nanmean(a, axis, out=out, keepdims=keepdims)\n",
      "/Users/disezmike/.pyenv/versions/3.13.2/lib/python3.13/site-packages/numpy/lib/_nanfunctions_impl.py:1214: RuntimeWarning: Mean of empty slice\n",
      "  return np.nanmean(a, axis, out=out, keepdims=keepdims)\n"
     ]
    }
   ],
   "source": [
    "import numpy as np\n",
    "\n",
    "META_COLS = {\n",
    "    \"source_file\",\"start_time\",\"end_time\",\n",
    "    \"expected_file_class\",\"expected_file_group\",\n",
    "    \"label\",\"label_auto_5cls\",\"label_final_5cls\"\n",
    "}\n",
    "meta_present = [c for c in META_COLS if c in train_df.columns]\n",
    "feature_cols = [c for c in train_df.columns if c not in meta_present]\n",
    "\n",
    "def prepare_X(df, feature_cols):\n",
    "    X = df[feature_cols].copy()\n",
    "    # บังคับเป็น numeric + เติมค่าหายด้วย median ต่อคอลัมน์\n",
    "    for c in feature_cols:\n",
    "        if not np.issubdtype(X[c].dtype, np.number):\n",
    "            X[c] = pd.to_numeric(X[c], errors=\"coerce\")\n",
    "        if X[c].isna().any():\n",
    "            X[c] = X[c].fillna(X[c].median())\n",
    "    return X\n",
    "\n",
    "X_train = prepare_X(train_df, feature_cols)\n",
    "y_train = train_df[LABEL_COL].astype(\"category\")\n",
    "X_test  = prepare_X(test_df, feature_cols)\n",
    "y_test  = test_df[LABEL_COL].astype(\"category\")\n",
    "\n",
    "print(len(feature_cols), \"features prepared.\")"
   ]
  },
  {
   "cell_type": "markdown",
   "id": "78127614-1440-4eac-8ae6-184633b1205a",
   "metadata": {},
   "source": [
    "## Create Model"
   ]
  },
  {
   "cell_type": "code",
   "execution_count": 30,
   "id": "591528c3-3087-4be8-94d4-f23e49c8effd",
   "metadata": {},
   "outputs": [
    {
     "name": "stdout",
     "output_type": "stream",
     "text": [
      "Balanced accuracy: 0.894\n",
      "              precision    recall  f1-score   support\n",
      "\n",
      "  DOWNSTAIRS      0.812     0.744     0.777       407\n",
      "        IDLE      1.000     1.000     1.000       868\n",
      "         RUN      1.000     1.000     1.000       470\n",
      "    UPSTAIRS      0.738     0.850     0.790       501\n",
      "        WALK      0.946     0.876     0.910       564\n",
      "\n",
      "    accuracy                          0.911      2810\n",
      "   macro avg      0.899     0.894     0.895      2810\n",
      "weighted avg      0.915     0.911     0.912      2810\n",
      "\n"
     ]
    },
    {
     "data": {
      "image/png": "[encoded data removed]",
      "text/plain": [
       "<Figure size 600x500 with 2 Axes>"
      ]
     },
     "metadata": {},
     "output_type": "display_data"
    }
   ],
   "source": [
    "from sklearn.ensemble import RandomForestClassifier\n",
    "from sklearn.metrics import classification_report, confusion_matrix, balanced_accuracy_score\n",
    "import numpy as np, matplotlib.pyplot as plt\n",
    "\n",
    "rf = RandomForestClassifier(\n",
    "    n_estimators=500, max_depth=None, max_features=\"sqrt\",\n",
    "    class_weight=\"balanced\", n_jobs=-1, random_state=42\n",
    ")\n",
    "rf.fit(X_train, y_train)\n",
    "\n",
    "pred  = rf.predict(X_test)\n",
    "proba = rf.predict_proba(X_test)\n",
    "\n",
    "score = balanced_accuracy_score(y_test, pred)\n",
    "print(f\"Balanced accuracy: {score:.3f}\")\n",
    "print(classification_report(y_test, pred, digits=3))\n",
    "\n",
    "labels = sorted(y_train.unique())\n",
    "cm = confusion_matrix(y_test, pred, labels=labels)\n",
    "plt.figure(figsize=(6,5))\n",
    "im = plt.imshow(cm, interpolation=\"nearest\"); plt.colorbar(im, fraction=0.046, pad=0.04)\n",
    "plt.xticks(range(len(labels)), labels, rotation=45, ha=\"right\")\n",
    "plt.yticks(range(len(labels)), labels)\n",
    "plt.title(\"Confusion Matrix — RF baseline\")\n",
    "for i in range(cm.shape[0]):\n",
    "    for j in range(cm.shape[1]):\n",
    "        plt.text(j, i, cm[i, j], ha=\"center\", va=\"center\", fontsize=9)\n",
    "plt.xlabel(\"Predicted\"); plt.ylabel(\"True\"); plt.tight_layout(); plt.show()"
   ]
  },
  {
   "cell_type": "code",
   "execution_count": 31,
   "id": "ea25efd8-aafc-4ed9-80a8-97eb48d6f22e",
   "metadata": {},
   "outputs": [
    {
     "name": "stdout",
     "output_type": "stream",
     "text": [
      "Saved model to: ./out/rf_4cls.joblib\n"
     ]
    }
   ],
   "source": [
    "import joblib, os, datetime as dt\n",
    "bundle = {\n",
    "    \"model\": rf,              # หรือ rf_tuned ถ้าจูนแล้ว\n",
    "    \"features\": feature_cols,\n",
    "    \"label_col\": LABEL_COL,\n",
    "    \"trained_at\": dt.datetime.now().isoformat(timespec=\"seconds\"),\n",
    "    \"group_split\": True\n",
    "}\n",
    "model_path = os.path.join(OUT_DIR, \"rf_4cls.joblib\")\n",
    "joblib.dump(bundle, model_path)\n",
    "print(\"Saved model to:\", model_path)"
   ]
  },
  {
   "cell_type": "code",
   "execution_count": null,
   "id": "82dcca13-e0cd-446e-8cc0-77c3754fce28",
   "metadata": {},
   "outputs": [],
   "source": []
  },
  {
   "cell_type": "code",
   "execution_count": 32,
   "id": "3355cff9-7266-4ad0-8ab8-f5428176743c",
   "metadata": {},
   "outputs": [
    {
     "name": "stdout",
     "output_type": "stream",
     "text": [
      "Requirement already satisfied: skl2onnx in /Users/disezmike/.pyenv/versions/3.13.2/lib/python3.13/site-packages (1.19.1)\n",
      "Requirement already satisfied: onnx>=1.2.1 in /Users/disezmike/.pyenv/versions/3.13.2/lib/python3.13/site-packages (from skl2onnx) (1.19.0)\n",
      "Requirement already satisfied: scikit-learn>=1.1 in /Users/disezmike/.pyenv/versions/3.13.2/lib/python3.13/site-packages (from skl2onnx) (1.7.2)\n",
      "Requirement already satisfied: numpy>=1.22 in /Users/disezmike/.pyenv/versions/3.13.2/lib/python3.13/site-packages (from onnx>=1.2.1->skl2onnx) (2.3.1)\n",
      "Requirement already satisfied: protobuf>=4.25.1 in /Users/disezmike/.pyenv/versions/3.13.2/lib/python3.13/site-packages (from onnx>=1.2.1->skl2onnx) (6.31.1)\n",
      "Requirement already satisfied: typing_extensions>=4.7.1 in /Users/disezmike/.pyenv/versions/3.13.2/lib/python3.13/site-packages (from onnx>=1.2.1->skl2onnx) (4.14.1)\n",
      "Requirement already satisfied: ml_dtypes in /Users/disezmike/.pyenv/versions/3.13.2/lib/python3.13/site-packages (from onnx>=1.2.1->skl2onnx) (0.5.3)\n",
      "Requirement already satisfied: scipy>=1.8.0 in /Users/disezmike/.pyenv/versions/3.13.2/lib/python3.13/site-packages (from scikit-learn>=1.1->skl2onnx) (1.16.2)\n",
      "Requirement already satisfied: joblib>=1.2.0 in /Users/disezmike/.pyenv/versions/3.13.2/lib/python3.13/site-packages (from scikit-learn>=1.1->skl2onnx) (1.5.2)\n",
      "Requirement already satisfied: threadpoolctl>=3.1.0 in /Users/disezmike/.pyenv/versions/3.13.2/lib/python3.13/site-packages (from scikit-learn>=1.1->skl2onnx) (3.6.0)\n",
      "\n",
      "\u001b[1m[\u001b[0m\u001b[34;49mnotice\u001b[0m\u001b[1;39;49m]\u001b[0m\u001b[39;49m A new release of pip is available: \u001b[0m\u001b[31;49m24.3.1\u001b[0m\u001b[39;49m -> \u001b[0m\u001b[32;49m25.2\u001b[0m\n",
      "\u001b[1m[\u001b[0m\u001b[34;49mnotice\u001b[0m\u001b[1;39;49m]\u001b[0m\u001b[39;49m To update, run: \u001b[0m\u001b[32;49mpip install --upgrade pip\u001b[0m\n"
     ]
    }
   ],
   "source": [
    "!pip install skl2onnx"
   ]
  },
  {
   "cell_type": "code",
   "execution_count": 34,
   "id": "a4ebd44a-c1a2-4692-9176-d153ffc0e1fc",
   "metadata": {},
   "outputs": [
    {
     "name": "stdout",
     "output_type": "stream",
     "text": [
      "['label', 'probabilities']\n"
     ]
    }
   ],
   "source": [
    "# === Convert sklearn RF -> ONNX (no ZipMap) + rename outputs ===\n",
    "import json, joblib, onnx\n",
    "from skl2onnx import convert_sklearn\n",
    "from skl2onnx.common.data_types import FloatTensorType\n",
    "\n",
    "bundle = joblib.load(\"./out/rf_4cls.joblib\")\n",
    "rf = bundle[\"model\"]\n",
    "feature_cols = bundle[\"features\"]\n",
    "classes = rf.classes_.tolist()\n",
    "\n",
    "initial_types = [(\"input\", FloatTensorType([None, len(feature_cols)]))]\n",
    "# ปิด ZipMap เพื่อให้ได้ tensor N×C (ง่ายต่อการเรียกใช้บนมือถือ)\n",
    "options = {id(rf): {\"zipmap\": False}}\n",
    "\n",
    "onnx_model = convert_sklearn(\n",
    "    rf,\n",
    "    initial_types=initial_types,\n",
    "    options=options,\n",
    "    target_opset=17,   # ใช้ opset ทั่วไป (ปรับลงได้ถ้าเครื่องคุณต้องการ)\n",
    ")\n",
    "\n",
    "# เปลี่ยนชื่อเอาต์พุตให้เป็น 'label' และ 'probabilities'\n",
    "# (index 0 = label, index 1 = probability tensor)\n",
    "onnx_model.graph.output[0].name = \"label\"\n",
    "onnx_model.graph.output[1].name = \"probabilities\"\n",
    "\n",
    "# เซฟไฟล์โมเดล + meta\n",
    "onnx.save(onnx_model, \"./mobile/rf_4cls.onnx\")\n",
    "with open(\"./mobile/rf_4cls.meta.json\", \"w\") as f:\n",
    "    json.dump({\"classes\": classes, \"features\": feature_cols}, f, ensure_ascii=False, indent=2)\n",
    "\n",
    "# ตรวจสอบชื่อเอาต์พุต (ควรได้ ['label', 'probabilities'])\n",
    "print([o.name for o in onnx_model.graph.output])"
   ]
  },
  {
   "cell_type": "code",
   "execution_count": null,
   "id": "1c394b38-2e46-4072-8703-20741abf4d6e",
   "metadata": {},
   "outputs": [],
   "source": []
  }
 ],
 "metadata": {
  "kernelspec": {
   "display_name": "Python 3 (ipykernel)",
   "language": "python",
   "name": "python3"
  },
  "language_info": {
   "codemirror_mode": {
    "name": "ipython",
    "version": 3
   },
   "file_extension": ".py",
   "mimetype": "text/x-python",
   "name": "python",
   "nbconvert_exporter": "python",
   "pygments_lexer": "ipython3",
   "version": "3.13.2"
  }
 },
 "nbformat": 4,
 "nbformat_minor": 5
}
