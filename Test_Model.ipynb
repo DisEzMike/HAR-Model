{
 "cells": [
  {
   "cell_type": "markdown",
   "id": "62fc1153-9e5b-404d-bc1f-30d5a7266dc0",
   "metadata": {},
   "source": [
    "## Load Model"
   ]
  },
  {
   "cell_type": "code",
   "execution_count": 1,
   "id": "0f100ec7-d604-419b-9334-b8ba8db3fd51",
   "metadata": {},
   "outputs": [
    {
     "name": "stdout",
     "output_type": "stream",
     "text": [
      "Loaded model with 19 features.\n"
     ]
    }
   ],
   "source": [
    "import joblib, os\n",
    "\n",
    "MODEL_PATH = \"./out/rf_4cls.joblib\"  # แก้ได้\n",
    "bundle = joblib.load(MODEL_PATH)\n",
    "model = bundle[\"model\"]\n",
    "feature_cols_model = bundle[\"features\"]\n",
    "label_col_model = bundle.get(\"label_col\", \"label\")  # เผื่อไฟล์ทดสอบมี label ให้เทียบ\n",
    "\n",
    "print(\"Loaded model with\", len(feature_cols_model), \"features.\")"
   ]
  },
  {
   "cell_type": "code",
   "execution_count": null,
   "id": "923c3295-9db2-40d1-8aff-43b2e8442b3d",
   "metadata": {},
   "outputs": [],
   "source": []
  }
 ],
 "metadata": {
  "kernelspec": {
   "display_name": "Python 3 (ipykernel)",
   "language": "python",
   "name": "python3"
  },
  "language_info": {
   "codemirror_mode": {
    "name": "ipython",
    "version": 3
   },
   "file_extension": ".py",
   "mimetype": "text/x-python",
   "name": "python",
   "nbconvert_exporter": "python",
   "pygments_lexer": "ipython3",
   "version": "3.13.2"
  }
 },
 "nbformat": 4,
 "nbformat_minor": 5
}
